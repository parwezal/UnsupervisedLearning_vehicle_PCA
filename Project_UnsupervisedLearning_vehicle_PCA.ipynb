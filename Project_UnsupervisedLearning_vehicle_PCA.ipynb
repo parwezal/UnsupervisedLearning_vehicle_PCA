{
 "cells": [
  {
   "cell_type": "code",
   "execution_count": 76,
   "metadata": {},
   "outputs": [],
   "source": [
    "#Import libraries\n",
    "import pandas as pd\n",
    "import numpy as np\n",
    "from sklearn import metrics\n",
    "import matplotlib.pyplot as plt\n",
    "%matplotlib inline \n",
    "import seaborn as sns\n",
    "from sklearn.metrics import confusion_matrix,classification_report\n",
    "from sklearn.model_selection import cross_val_score, GridSearchCV"
   ]
  },
  {
   "cell_type": "code",
   "execution_count": 2,
   "metadata": {},
   "outputs": [],
   "source": [
    "#import data\n",
    "data=pd.read_csv('C:/Users/LENOVO/datascience/greatlearning/Project_UnsupervisedLearning/vehicle.csv')"
   ]
  },
  {
   "cell_type": "code",
   "execution_count": 3,
   "metadata": {},
   "outputs": [
    {
     "data": {
      "text/html": [
       "<div>\n",
       "<style scoped>\n",
       "    .dataframe tbody tr th:only-of-type {\n",
       "        vertical-align: middle;\n",
       "    }\n",
       "\n",
       "    .dataframe tbody tr th {\n",
       "        vertical-align: top;\n",
       "    }\n",
       "\n",
       "    .dataframe thead th {\n",
       "        text-align: right;\n",
       "    }\n",
       "</style>\n",
       "<table border=\"1\" class=\"dataframe\">\n",
       "  <thead>\n",
       "    <tr style=\"text-align: right;\">\n",
       "      <th></th>\n",
       "      <th>compactness</th>\n",
       "      <th>circularity</th>\n",
       "      <th>distance_circularity</th>\n",
       "      <th>radius_ratio</th>\n",
       "      <th>pr.axis_aspect_ratio</th>\n",
       "      <th>max.length_aspect_ratio</th>\n",
       "      <th>scatter_ratio</th>\n",
       "      <th>elongatedness</th>\n",
       "      <th>pr.axis_rectangularity</th>\n",
       "      <th>max.length_rectangularity</th>\n",
       "      <th>scaled_variance</th>\n",
       "      <th>scaled_variance.1</th>\n",
       "      <th>scaled_radius_of_gyration</th>\n",
       "      <th>scaled_radius_of_gyration.1</th>\n",
       "      <th>skewness_about</th>\n",
       "      <th>skewness_about.1</th>\n",
       "      <th>skewness_about.2</th>\n",
       "      <th>hollows_ratio</th>\n",
       "      <th>class</th>\n",
       "    </tr>\n",
       "  </thead>\n",
       "  <tbody>\n",
       "    <tr>\n",
       "      <td>0</td>\n",
       "      <td>95</td>\n",
       "      <td>48.0</td>\n",
       "      <td>83.0</td>\n",
       "      <td>178.0</td>\n",
       "      <td>72.0</td>\n",
       "      <td>10</td>\n",
       "      <td>162.0</td>\n",
       "      <td>42.0</td>\n",
       "      <td>20.0</td>\n",
       "      <td>159</td>\n",
       "      <td>176.0</td>\n",
       "      <td>379.0</td>\n",
       "      <td>184.0</td>\n",
       "      <td>70.0</td>\n",
       "      <td>6.0</td>\n",
       "      <td>16.0</td>\n",
       "      <td>187.0</td>\n",
       "      <td>197</td>\n",
       "      <td>van</td>\n",
       "    </tr>\n",
       "    <tr>\n",
       "      <td>1</td>\n",
       "      <td>91</td>\n",
       "      <td>41.0</td>\n",
       "      <td>84.0</td>\n",
       "      <td>141.0</td>\n",
       "      <td>57.0</td>\n",
       "      <td>9</td>\n",
       "      <td>149.0</td>\n",
       "      <td>45.0</td>\n",
       "      <td>19.0</td>\n",
       "      <td>143</td>\n",
       "      <td>170.0</td>\n",
       "      <td>330.0</td>\n",
       "      <td>158.0</td>\n",
       "      <td>72.0</td>\n",
       "      <td>9.0</td>\n",
       "      <td>14.0</td>\n",
       "      <td>189.0</td>\n",
       "      <td>199</td>\n",
       "      <td>van</td>\n",
       "    </tr>\n",
       "    <tr>\n",
       "      <td>2</td>\n",
       "      <td>104</td>\n",
       "      <td>50.0</td>\n",
       "      <td>106.0</td>\n",
       "      <td>209.0</td>\n",
       "      <td>66.0</td>\n",
       "      <td>10</td>\n",
       "      <td>207.0</td>\n",
       "      <td>32.0</td>\n",
       "      <td>23.0</td>\n",
       "      <td>158</td>\n",
       "      <td>223.0</td>\n",
       "      <td>635.0</td>\n",
       "      <td>220.0</td>\n",
       "      <td>73.0</td>\n",
       "      <td>14.0</td>\n",
       "      <td>9.0</td>\n",
       "      <td>188.0</td>\n",
       "      <td>196</td>\n",
       "      <td>car</td>\n",
       "    </tr>\n",
       "    <tr>\n",
       "      <td>3</td>\n",
       "      <td>93</td>\n",
       "      <td>41.0</td>\n",
       "      <td>82.0</td>\n",
       "      <td>159.0</td>\n",
       "      <td>63.0</td>\n",
       "      <td>9</td>\n",
       "      <td>144.0</td>\n",
       "      <td>46.0</td>\n",
       "      <td>19.0</td>\n",
       "      <td>143</td>\n",
       "      <td>160.0</td>\n",
       "      <td>309.0</td>\n",
       "      <td>127.0</td>\n",
       "      <td>63.0</td>\n",
       "      <td>6.0</td>\n",
       "      <td>10.0</td>\n",
       "      <td>199.0</td>\n",
       "      <td>207</td>\n",
       "      <td>van</td>\n",
       "    </tr>\n",
       "    <tr>\n",
       "      <td>4</td>\n",
       "      <td>85</td>\n",
       "      <td>44.0</td>\n",
       "      <td>70.0</td>\n",
       "      <td>205.0</td>\n",
       "      <td>103.0</td>\n",
       "      <td>52</td>\n",
       "      <td>149.0</td>\n",
       "      <td>45.0</td>\n",
       "      <td>19.0</td>\n",
       "      <td>144</td>\n",
       "      <td>241.0</td>\n",
       "      <td>325.0</td>\n",
       "      <td>188.0</td>\n",
       "      <td>127.0</td>\n",
       "      <td>9.0</td>\n",
       "      <td>11.0</td>\n",
       "      <td>180.0</td>\n",
       "      <td>183</td>\n",
       "      <td>bus</td>\n",
       "    </tr>\n",
       "  </tbody>\n",
       "</table>\n",
       "</div>"
      ],
      "text/plain": [
       "   compactness  circularity  distance_circularity  radius_ratio  \\\n",
       "0           95         48.0                  83.0         178.0   \n",
       "1           91         41.0                  84.0         141.0   \n",
       "2          104         50.0                 106.0         209.0   \n",
       "3           93         41.0                  82.0         159.0   \n",
       "4           85         44.0                  70.0         205.0   \n",
       "\n",
       "   pr.axis_aspect_ratio  max.length_aspect_ratio  scatter_ratio  \\\n",
       "0                  72.0                       10          162.0   \n",
       "1                  57.0                        9          149.0   \n",
       "2                  66.0                       10          207.0   \n",
       "3                  63.0                        9          144.0   \n",
       "4                 103.0                       52          149.0   \n",
       "\n",
       "   elongatedness  pr.axis_rectangularity  max.length_rectangularity  \\\n",
       "0           42.0                    20.0                        159   \n",
       "1           45.0                    19.0                        143   \n",
       "2           32.0                    23.0                        158   \n",
       "3           46.0                    19.0                        143   \n",
       "4           45.0                    19.0                        144   \n",
       "\n",
       "   scaled_variance  scaled_variance.1  scaled_radius_of_gyration  \\\n",
       "0            176.0              379.0                      184.0   \n",
       "1            170.0              330.0                      158.0   \n",
       "2            223.0              635.0                      220.0   \n",
       "3            160.0              309.0                      127.0   \n",
       "4            241.0              325.0                      188.0   \n",
       "\n",
       "   scaled_radius_of_gyration.1  skewness_about  skewness_about.1  \\\n",
       "0                         70.0             6.0              16.0   \n",
       "1                         72.0             9.0              14.0   \n",
       "2                         73.0            14.0               9.0   \n",
       "3                         63.0             6.0              10.0   \n",
       "4                        127.0             9.0              11.0   \n",
       "\n",
       "   skewness_about.2  hollows_ratio class  \n",
       "0             187.0            197   van  \n",
       "1             189.0            199   van  \n",
       "2             188.0            196   car  \n",
       "3             199.0            207   van  \n",
       "4             180.0            183   bus  "
      ]
     },
     "execution_count": 3,
     "metadata": {},
     "output_type": "execute_result"
    }
   ],
   "source": [
    "data.head()"
   ]
  },
  {
   "cell_type": "code",
   "execution_count": 4,
   "metadata": {},
   "outputs": [],
   "source": [
    "#Exploratory Data Ananlysis"
   ]
  },
  {
   "cell_type": "code",
   "execution_count": 5,
   "metadata": {},
   "outputs": [
    {
     "data": {
      "text/plain": [
       "(846, 19)"
      ]
     },
     "execution_count": 5,
     "metadata": {},
     "output_type": "execute_result"
    }
   ],
   "source": [
    "data.shape"
   ]
  },
  {
   "cell_type": "code",
   "execution_count": 6,
   "metadata": {},
   "outputs": [
    {
     "name": "stdout",
     "output_type": "stream",
     "text": [
      "<class 'pandas.core.frame.DataFrame'>\n",
      "RangeIndex: 846 entries, 0 to 845\n",
      "Data columns (total 19 columns):\n",
      "compactness                    846 non-null int64\n",
      "circularity                    841 non-null float64\n",
      "distance_circularity           842 non-null float64\n",
      "radius_ratio                   840 non-null float64\n",
      "pr.axis_aspect_ratio           844 non-null float64\n",
      "max.length_aspect_ratio        846 non-null int64\n",
      "scatter_ratio                  845 non-null float64\n",
      "elongatedness                  845 non-null float64\n",
      "pr.axis_rectangularity         843 non-null float64\n",
      "max.length_rectangularity      846 non-null int64\n",
      "scaled_variance                843 non-null float64\n",
      "scaled_variance.1              844 non-null float64\n",
      "scaled_radius_of_gyration      844 non-null float64\n",
      "scaled_radius_of_gyration.1    842 non-null float64\n",
      "skewness_about                 840 non-null float64\n",
      "skewness_about.1               845 non-null float64\n",
      "skewness_about.2               845 non-null float64\n",
      "hollows_ratio                  846 non-null int64\n",
      "class                          846 non-null object\n",
      "dtypes: float64(14), int64(4), object(1)\n",
      "memory usage: 125.7+ KB\n"
     ]
    }
   ],
   "source": [
    "#Data type of attributes\n",
    "data.info()"
   ]
  },
  {
   "cell_type": "code",
   "execution_count": 7,
   "metadata": {},
   "outputs": [
    {
     "name": "stdout",
     "output_type": "stream",
     "text": [
      "compactness                    0\n",
      "circularity                    5\n",
      "distance_circularity           4\n",
      "radius_ratio                   6\n",
      "pr.axis_aspect_ratio           2\n",
      "max.length_aspect_ratio        0\n",
      "scatter_ratio                  1\n",
      "elongatedness                  1\n",
      "pr.axis_rectangularity         3\n",
      "max.length_rectangularity      0\n",
      "scaled_variance                3\n",
      "scaled_variance.1              2\n",
      "scaled_radius_of_gyration      2\n",
      "scaled_radius_of_gyration.1    4\n",
      "skewness_about                 6\n",
      "skewness_about.1               1\n",
      "skewness_about.2               1\n",
      "hollows_ratio                  0\n",
      "class                          0\n",
      "dtype: int64\n"
     ]
    }
   ],
   "source": [
    "#Summarize the presence of null value\n",
    "print(data.isnull().sum())"
   ]
  },
  {
   "cell_type": "code",
   "execution_count": 8,
   "metadata": {},
   "outputs": [],
   "source": [
    "#We will drop the null values from the dataset\n",
    "data=data.dropna()"
   ]
  },
  {
   "cell_type": "code",
   "execution_count": 9,
   "metadata": {},
   "outputs": [
    {
     "name": "stdout",
     "output_type": "stream",
     "text": [
      "compactness                    0\n",
      "circularity                    0\n",
      "distance_circularity           0\n",
      "radius_ratio                   0\n",
      "pr.axis_aspect_ratio           0\n",
      "max.length_aspect_ratio        0\n",
      "scatter_ratio                  0\n",
      "elongatedness                  0\n",
      "pr.axis_rectangularity         0\n",
      "max.length_rectangularity      0\n",
      "scaled_variance                0\n",
      "scaled_variance.1              0\n",
      "scaled_radius_of_gyration      0\n",
      "scaled_radius_of_gyration.1    0\n",
      "skewness_about                 0\n",
      "skewness_about.1               0\n",
      "skewness_about.2               0\n",
      "hollows_ratio                  0\n",
      "class                          0\n",
      "dtype: int64\n"
     ]
    }
   ],
   "source": [
    "#Recheck the datasert for presence of na values\n",
    "print(data.isnull().sum())"
   ]
  },
  {
   "cell_type": "code",
   "execution_count": 10,
   "metadata": {},
   "outputs": [
    {
     "data": {
      "text/plain": [
       "(813, 19)"
      ]
     },
     "execution_count": 10,
     "metadata": {},
     "output_type": "execute_result"
    }
   ],
   "source": [
    "#check the dimension of new dataset\n",
    "data.shape"
   ]
  },
  {
   "cell_type": "code",
   "execution_count": 11,
   "metadata": {},
   "outputs": [
    {
     "data": {
      "text/html": [
       "<div>\n",
       "<style scoped>\n",
       "    .dataframe tbody tr th:only-of-type {\n",
       "        vertical-align: middle;\n",
       "    }\n",
       "\n",
       "    .dataframe tbody tr th {\n",
       "        vertical-align: top;\n",
       "    }\n",
       "\n",
       "    .dataframe thead th {\n",
       "        text-align: right;\n",
       "    }\n",
       "</style>\n",
       "<table border=\"1\" class=\"dataframe\">\n",
       "  <thead>\n",
       "    <tr style=\"text-align: right;\">\n",
       "      <th></th>\n",
       "      <th>count</th>\n",
       "      <th>mean</th>\n",
       "      <th>std</th>\n",
       "      <th>min</th>\n",
       "      <th>25%</th>\n",
       "      <th>50%</th>\n",
       "      <th>75%</th>\n",
       "      <th>max</th>\n",
       "    </tr>\n",
       "  </thead>\n",
       "  <tbody>\n",
       "    <tr>\n",
       "      <td>compactness</td>\n",
       "      <td>813.0</td>\n",
       "      <td>93.656827</td>\n",
       "      <td>8.233751</td>\n",
       "      <td>73.0</td>\n",
       "      <td>87.0</td>\n",
       "      <td>93.0</td>\n",
       "      <td>100.0</td>\n",
       "      <td>119.0</td>\n",
       "    </tr>\n",
       "    <tr>\n",
       "      <td>circularity</td>\n",
       "      <td>813.0</td>\n",
       "      <td>44.803198</td>\n",
       "      <td>6.146659</td>\n",
       "      <td>33.0</td>\n",
       "      <td>40.0</td>\n",
       "      <td>44.0</td>\n",
       "      <td>49.0</td>\n",
       "      <td>59.0</td>\n",
       "    </tr>\n",
       "    <tr>\n",
       "      <td>distance_circularity</td>\n",
       "      <td>813.0</td>\n",
       "      <td>82.043050</td>\n",
       "      <td>15.783070</td>\n",
       "      <td>40.0</td>\n",
       "      <td>70.0</td>\n",
       "      <td>79.0</td>\n",
       "      <td>98.0</td>\n",
       "      <td>112.0</td>\n",
       "    </tr>\n",
       "    <tr>\n",
       "      <td>radius_ratio</td>\n",
       "      <td>813.0</td>\n",
       "      <td>169.098401</td>\n",
       "      <td>33.615402</td>\n",
       "      <td>104.0</td>\n",
       "      <td>141.0</td>\n",
       "      <td>167.0</td>\n",
       "      <td>195.0</td>\n",
       "      <td>333.0</td>\n",
       "    </tr>\n",
       "    <tr>\n",
       "      <td>pr.axis_aspect_ratio</td>\n",
       "      <td>813.0</td>\n",
       "      <td>61.774908</td>\n",
       "      <td>7.973000</td>\n",
       "      <td>47.0</td>\n",
       "      <td>57.0</td>\n",
       "      <td>61.0</td>\n",
       "      <td>65.0</td>\n",
       "      <td>138.0</td>\n",
       "    </tr>\n",
       "    <tr>\n",
       "      <td>max.length_aspect_ratio</td>\n",
       "      <td>813.0</td>\n",
       "      <td>8.599016</td>\n",
       "      <td>4.677174</td>\n",
       "      <td>2.0</td>\n",
       "      <td>7.0</td>\n",
       "      <td>8.0</td>\n",
       "      <td>10.0</td>\n",
       "      <td>55.0</td>\n",
       "    </tr>\n",
       "    <tr>\n",
       "      <td>scatter_ratio</td>\n",
       "      <td>813.0</td>\n",
       "      <td>168.563346</td>\n",
       "      <td>33.082186</td>\n",
       "      <td>112.0</td>\n",
       "      <td>146.0</td>\n",
       "      <td>157.0</td>\n",
       "      <td>198.0</td>\n",
       "      <td>265.0</td>\n",
       "    </tr>\n",
       "    <tr>\n",
       "      <td>elongatedness</td>\n",
       "      <td>813.0</td>\n",
       "      <td>40.988930</td>\n",
       "      <td>7.803380</td>\n",
       "      <td>26.0</td>\n",
       "      <td>33.0</td>\n",
       "      <td>43.0</td>\n",
       "      <td>46.0</td>\n",
       "      <td>61.0</td>\n",
       "    </tr>\n",
       "    <tr>\n",
       "      <td>pr.axis_rectangularity</td>\n",
       "      <td>813.0</td>\n",
       "      <td>20.558426</td>\n",
       "      <td>2.573184</td>\n",
       "      <td>17.0</td>\n",
       "      <td>19.0</td>\n",
       "      <td>20.0</td>\n",
       "      <td>23.0</td>\n",
       "      <td>29.0</td>\n",
       "    </tr>\n",
       "    <tr>\n",
       "      <td>max.length_rectangularity</td>\n",
       "      <td>813.0</td>\n",
       "      <td>147.891759</td>\n",
       "      <td>14.504648</td>\n",
       "      <td>118.0</td>\n",
       "      <td>137.0</td>\n",
       "      <td>146.0</td>\n",
       "      <td>159.0</td>\n",
       "      <td>188.0</td>\n",
       "    </tr>\n",
       "    <tr>\n",
       "      <td>scaled_variance</td>\n",
       "      <td>813.0</td>\n",
       "      <td>188.377614</td>\n",
       "      <td>31.165873</td>\n",
       "      <td>130.0</td>\n",
       "      <td>167.0</td>\n",
       "      <td>179.0</td>\n",
       "      <td>217.0</td>\n",
       "      <td>320.0</td>\n",
       "    </tr>\n",
       "    <tr>\n",
       "      <td>scaled_variance.1</td>\n",
       "      <td>813.0</td>\n",
       "      <td>438.382534</td>\n",
       "      <td>175.270368</td>\n",
       "      <td>184.0</td>\n",
       "      <td>318.0</td>\n",
       "      <td>364.0</td>\n",
       "      <td>586.0</td>\n",
       "      <td>1018.0</td>\n",
       "    </tr>\n",
       "    <tr>\n",
       "      <td>scaled_radius_of_gyration</td>\n",
       "      <td>813.0</td>\n",
       "      <td>174.252153</td>\n",
       "      <td>32.332161</td>\n",
       "      <td>109.0</td>\n",
       "      <td>149.0</td>\n",
       "      <td>173.0</td>\n",
       "      <td>198.0</td>\n",
       "      <td>268.0</td>\n",
       "    </tr>\n",
       "    <tr>\n",
       "      <td>scaled_radius_of_gyration.1</td>\n",
       "      <td>813.0</td>\n",
       "      <td>72.399754</td>\n",
       "      <td>7.475994</td>\n",
       "      <td>59.0</td>\n",
       "      <td>67.0</td>\n",
       "      <td>71.0</td>\n",
       "      <td>75.0</td>\n",
       "      <td>135.0</td>\n",
       "    </tr>\n",
       "    <tr>\n",
       "      <td>skewness_about</td>\n",
       "      <td>813.0</td>\n",
       "      <td>6.351784</td>\n",
       "      <td>4.921476</td>\n",
       "      <td>0.0</td>\n",
       "      <td>2.0</td>\n",
       "      <td>6.0</td>\n",
       "      <td>9.0</td>\n",
       "      <td>22.0</td>\n",
       "    </tr>\n",
       "    <tr>\n",
       "      <td>skewness_about.1</td>\n",
       "      <td>813.0</td>\n",
       "      <td>12.687577</td>\n",
       "      <td>8.926951</td>\n",
       "      <td>0.0</td>\n",
       "      <td>6.0</td>\n",
       "      <td>11.0</td>\n",
       "      <td>19.0</td>\n",
       "      <td>41.0</td>\n",
       "    </tr>\n",
       "    <tr>\n",
       "      <td>skewness_about.2</td>\n",
       "      <td>813.0</td>\n",
       "      <td>188.979090</td>\n",
       "      <td>6.153681</td>\n",
       "      <td>176.0</td>\n",
       "      <td>184.0</td>\n",
       "      <td>189.0</td>\n",
       "      <td>193.0</td>\n",
       "      <td>206.0</td>\n",
       "    </tr>\n",
       "    <tr>\n",
       "      <td>hollows_ratio</td>\n",
       "      <td>813.0</td>\n",
       "      <td>195.729397</td>\n",
       "      <td>7.398781</td>\n",
       "      <td>181.0</td>\n",
       "      <td>191.0</td>\n",
       "      <td>197.0</td>\n",
       "      <td>201.0</td>\n",
       "      <td>211.0</td>\n",
       "    </tr>\n",
       "  </tbody>\n",
       "</table>\n",
       "</div>"
      ],
      "text/plain": [
       "                             count        mean         std    min    25%  \\\n",
       "compactness                  813.0   93.656827    8.233751   73.0   87.0   \n",
       "circularity                  813.0   44.803198    6.146659   33.0   40.0   \n",
       "distance_circularity         813.0   82.043050   15.783070   40.0   70.0   \n",
       "radius_ratio                 813.0  169.098401   33.615402  104.0  141.0   \n",
       "pr.axis_aspect_ratio         813.0   61.774908    7.973000   47.0   57.0   \n",
       "max.length_aspect_ratio      813.0    8.599016    4.677174    2.0    7.0   \n",
       "scatter_ratio                813.0  168.563346   33.082186  112.0  146.0   \n",
       "elongatedness                813.0   40.988930    7.803380   26.0   33.0   \n",
       "pr.axis_rectangularity       813.0   20.558426    2.573184   17.0   19.0   \n",
       "max.length_rectangularity    813.0  147.891759   14.504648  118.0  137.0   \n",
       "scaled_variance              813.0  188.377614   31.165873  130.0  167.0   \n",
       "scaled_variance.1            813.0  438.382534  175.270368  184.0  318.0   \n",
       "scaled_radius_of_gyration    813.0  174.252153   32.332161  109.0  149.0   \n",
       "scaled_radius_of_gyration.1  813.0   72.399754    7.475994   59.0   67.0   \n",
       "skewness_about               813.0    6.351784    4.921476    0.0    2.0   \n",
       "skewness_about.1             813.0   12.687577    8.926951    0.0    6.0   \n",
       "skewness_about.2             813.0  188.979090    6.153681  176.0  184.0   \n",
       "hollows_ratio                813.0  195.729397    7.398781  181.0  191.0   \n",
       "\n",
       "                               50%    75%     max  \n",
       "compactness                   93.0  100.0   119.0  \n",
       "circularity                   44.0   49.0    59.0  \n",
       "distance_circularity          79.0   98.0   112.0  \n",
       "radius_ratio                 167.0  195.0   333.0  \n",
       "pr.axis_aspect_ratio          61.0   65.0   138.0  \n",
       "max.length_aspect_ratio        8.0   10.0    55.0  \n",
       "scatter_ratio                157.0  198.0   265.0  \n",
       "elongatedness                 43.0   46.0    61.0  \n",
       "pr.axis_rectangularity        20.0   23.0    29.0  \n",
       "max.length_rectangularity    146.0  159.0   188.0  \n",
       "scaled_variance              179.0  217.0   320.0  \n",
       "scaled_variance.1            364.0  586.0  1018.0  \n",
       "scaled_radius_of_gyration    173.0  198.0   268.0  \n",
       "scaled_radius_of_gyration.1   71.0   75.0   135.0  \n",
       "skewness_about                 6.0    9.0    22.0  \n",
       "skewness_about.1              11.0   19.0    41.0  \n",
       "skewness_about.2             189.0  193.0   206.0  \n",
       "hollows_ratio                197.0  201.0   211.0  "
      ]
     },
     "execution_count": 11,
     "metadata": {},
     "output_type": "execute_result"
    }
   ],
   "source": [
    "#Describing the data\n",
    "data.describe().transpose()"
   ]
  },
  {
   "cell_type": "code",
   "execution_count": 12,
   "metadata": {},
   "outputs": [
    {
     "data": {
      "image/png": "[encoded data removed]",
      "text/plain": [
       "<Figure size 720x576 with 1 Axes>"
      ]
     },
     "metadata": {
      "needs_background": "light"
     },
     "output_type": "display_data"
    }
   ],
   "source": [
    "#Coreltion matrix\n",
    "plt.figure(figsize=(10,8))\n",
    "sns.heatmap(data.corr(),\n",
    "            annot=True,\n",
    "            linewidths=.5,\n",
    "            center=0,\n",
    "            cbar=False,\n",
    "            cmap=\"YlGnBu\")\n",
    "plt.show()"
   ]
  },
  {
   "cell_type": "code",
   "execution_count": 37,
   "metadata": {},
   "outputs": [],
   "source": [
    "#as we can see there are lot of corelated columns so we can drop them to reduce the feature space\n",
    "#we can drop compactness,circularity,distance_circularity,radius_ratio,pr.axis_rectangularity,max.length_regularity,scaled_variance,scaled_radius_of_gyration,\n",
    "#scaled_radius_of_gyration.1"
   ]
  },
  {
   "cell_type": "code",
   "execution_count": 38,
   "metadata": {},
   "outputs": [],
   "source": [
    "#Drop the corelated columns\n",
    "data2=data[['pr.axis_aspect_ratio','max.length_aspect_ratio','elongatedness','skewness_about','skewness_about.1','skewness_about.2','hollows_ratio','class']]"
   ]
  },
  {
   "cell_type": "code",
   "execution_count": 39,
   "metadata": {},
   "outputs": [
    {
     "data": {
      "text/html": [
       "<div>\n",
       "<style scoped>\n",
       "    .dataframe tbody tr th:only-of-type {\n",
       "        vertical-align: middle;\n",
       "    }\n",
       "\n",
       "    .dataframe tbody tr th {\n",
       "        vertical-align: top;\n",
       "    }\n",
       "\n",
       "    .dataframe thead th {\n",
       "        text-align: right;\n",
       "    }\n",
       "</style>\n",
       "<table border=\"1\" class=\"dataframe\">\n",
       "  <thead>\n",
       "    <tr style=\"text-align: right;\">\n",
       "      <th></th>\n",
       "      <th>pr.axis_aspect_ratio</th>\n",
       "      <th>max.length_aspect_ratio</th>\n",
       "      <th>elongatedness</th>\n",
       "      <th>skewness_about</th>\n",
       "      <th>skewness_about.1</th>\n",
       "      <th>skewness_about.2</th>\n",
       "      <th>hollows_ratio</th>\n",
       "      <th>class</th>\n",
       "    </tr>\n",
       "  </thead>\n",
       "  <tbody>\n",
       "    <tr>\n",
       "      <td>0</td>\n",
       "      <td>72.0</td>\n",
       "      <td>10</td>\n",
       "      <td>42.0</td>\n",
       "      <td>6.0</td>\n",
       "      <td>16.0</td>\n",
       "      <td>187.0</td>\n",
       "      <td>197</td>\n",
       "      <td>van</td>\n",
       "    </tr>\n",
       "    <tr>\n",
       "      <td>1</td>\n",
       "      <td>57.0</td>\n",
       "      <td>9</td>\n",
       "      <td>45.0</td>\n",
       "      <td>9.0</td>\n",
       "      <td>14.0</td>\n",
       "      <td>189.0</td>\n",
       "      <td>199</td>\n",
       "      <td>van</td>\n",
       "    </tr>\n",
       "    <tr>\n",
       "      <td>2</td>\n",
       "      <td>66.0</td>\n",
       "      <td>10</td>\n",
       "      <td>32.0</td>\n",
       "      <td>14.0</td>\n",
       "      <td>9.0</td>\n",
       "      <td>188.0</td>\n",
       "      <td>196</td>\n",
       "      <td>car</td>\n",
       "    </tr>\n",
       "    <tr>\n",
       "      <td>3</td>\n",
       "      <td>63.0</td>\n",
       "      <td>9</td>\n",
       "      <td>46.0</td>\n",
       "      <td>6.0</td>\n",
       "      <td>10.0</td>\n",
       "      <td>199.0</td>\n",
       "      <td>207</td>\n",
       "      <td>van</td>\n",
       "    </tr>\n",
       "    <tr>\n",
       "      <td>4</td>\n",
       "      <td>103.0</td>\n",
       "      <td>52</td>\n",
       "      <td>45.0</td>\n",
       "      <td>9.0</td>\n",
       "      <td>11.0</td>\n",
       "      <td>180.0</td>\n",
       "      <td>183</td>\n",
       "      <td>bus</td>\n",
       "    </tr>\n",
       "  </tbody>\n",
       "</table>\n",
       "</div>"
      ],
      "text/plain": [
       "   pr.axis_aspect_ratio  max.length_aspect_ratio  elongatedness  \\\n",
       "0                  72.0                       10           42.0   \n",
       "1                  57.0                        9           45.0   \n",
       "2                  66.0                       10           32.0   \n",
       "3                  63.0                        9           46.0   \n",
       "4                 103.0                       52           45.0   \n",
       "\n",
       "   skewness_about  skewness_about.1  skewness_about.2  hollows_ratio class  \n",
       "0             6.0              16.0             187.0            197   van  \n",
       "1             9.0              14.0             189.0            199   van  \n",
       "2            14.0               9.0             188.0            196   car  \n",
       "3             6.0              10.0             199.0            207   van  \n",
       "4             9.0              11.0             180.0            183   bus  "
      ]
     },
     "execution_count": 39,
     "metadata": {},
     "output_type": "execute_result"
    }
   ],
   "source": [
    "data2.head()"
   ]
  },
  {
   "cell_type": "code",
   "execution_count": 40,
   "metadata": {},
   "outputs": [],
   "source": [
    "#Rename the column bremoving . from the column name\n",
    "data3=data2.rename(columns = {'pr.axis_aspect_ratio':'pr_axis_aspect_ratio','max.length_aspect_ratio':'max_length_aspect_ratio','skewness_about.1':'skewness_about_1','skewness_about.2':'skewness_about_2'}, inplace = True)"
   ]
  },
  {
   "cell_type": "code",
   "execution_count": 41,
   "metadata": {},
   "outputs": [
    {
     "data": {
      "text/html": [
       "<div>\n",
       "<style scoped>\n",
       "    .dataframe tbody tr th:only-of-type {\n",
       "        vertical-align: middle;\n",
       "    }\n",
       "\n",
       "    .dataframe tbody tr th {\n",
       "        vertical-align: top;\n",
       "    }\n",
       "\n",
       "    .dataframe thead th {\n",
       "        text-align: right;\n",
       "    }\n",
       "</style>\n",
       "<table border=\"1\" class=\"dataframe\">\n",
       "  <thead>\n",
       "    <tr style=\"text-align: right;\">\n",
       "      <th></th>\n",
       "      <th>pr_axis_aspect_ratio</th>\n",
       "      <th>max_length_aspect_ratio</th>\n",
       "      <th>elongatedness</th>\n",
       "      <th>skewness_about</th>\n",
       "      <th>skewness_about_1</th>\n",
       "      <th>skewness_about_2</th>\n",
       "      <th>hollows_ratio</th>\n",
       "      <th>class</th>\n",
       "    </tr>\n",
       "  </thead>\n",
       "  <tbody>\n",
       "    <tr>\n",
       "      <td>0</td>\n",
       "      <td>72.0</td>\n",
       "      <td>10</td>\n",
       "      <td>42.0</td>\n",
       "      <td>6.0</td>\n",
       "      <td>16.0</td>\n",
       "      <td>187.0</td>\n",
       "      <td>197</td>\n",
       "      <td>van</td>\n",
       "    </tr>\n",
       "    <tr>\n",
       "      <td>1</td>\n",
       "      <td>57.0</td>\n",
       "      <td>9</td>\n",
       "      <td>45.0</td>\n",
       "      <td>9.0</td>\n",
       "      <td>14.0</td>\n",
       "      <td>189.0</td>\n",
       "      <td>199</td>\n",
       "      <td>van</td>\n",
       "    </tr>\n",
       "    <tr>\n",
       "      <td>2</td>\n",
       "      <td>66.0</td>\n",
       "      <td>10</td>\n",
       "      <td>32.0</td>\n",
       "      <td>14.0</td>\n",
       "      <td>9.0</td>\n",
       "      <td>188.0</td>\n",
       "      <td>196</td>\n",
       "      <td>car</td>\n",
       "    </tr>\n",
       "    <tr>\n",
       "      <td>3</td>\n",
       "      <td>63.0</td>\n",
       "      <td>9</td>\n",
       "      <td>46.0</td>\n",
       "      <td>6.0</td>\n",
       "      <td>10.0</td>\n",
       "      <td>199.0</td>\n",
       "      <td>207</td>\n",
       "      <td>van</td>\n",
       "    </tr>\n",
       "    <tr>\n",
       "      <td>4</td>\n",
       "      <td>103.0</td>\n",
       "      <td>52</td>\n",
       "      <td>45.0</td>\n",
       "      <td>9.0</td>\n",
       "      <td>11.0</td>\n",
       "      <td>180.0</td>\n",
       "      <td>183</td>\n",
       "      <td>bus</td>\n",
       "    </tr>\n",
       "  </tbody>\n",
       "</table>\n",
       "</div>"
      ],
      "text/plain": [
       "   pr_axis_aspect_ratio  max_length_aspect_ratio  elongatedness  \\\n",
       "0                  72.0                       10           42.0   \n",
       "1                  57.0                        9           45.0   \n",
       "2                  66.0                       10           32.0   \n",
       "3                  63.0                        9           46.0   \n",
       "4                 103.0                       52           45.0   \n",
       "\n",
       "   skewness_about  skewness_about_1  skewness_about_2  hollows_ratio class  \n",
       "0             6.0              16.0             187.0            197   van  \n",
       "1             9.0              14.0             189.0            199   van  \n",
       "2            14.0               9.0             188.0            196   car  \n",
       "3             6.0              10.0             199.0            207   van  \n",
       "4             9.0              11.0             180.0            183   bus  "
      ]
     },
     "execution_count": 41,
     "metadata": {},
     "output_type": "execute_result"
    }
   ],
   "source": [
    "#check new renamed columns\n",
    "data2.head()\n"
   ]
  },
  {
   "cell_type": "code",
   "execution_count": null,
   "metadata": {},
   "outputs": [],
   "source": []
  },
  {
   "cell_type": "markdown",
   "metadata": {},
   "source": [
    "## Univariate Analysis"
   ]
  },
  {
   "cell_type": "code",
   "execution_count": null,
   "metadata": {},
   "outputs": [],
   "source": []
  },
  {
   "cell_type": "code",
   "execution_count": null,
   "metadata": {},
   "outputs": [],
   "source": []
  },
  {
   "cell_type": "code",
   "execution_count": 19,
   "metadata": {},
   "outputs": [
    {
     "data": {
      "image/png": "[encoded data removed]",
      "text/plain": [
       "<Figure size 432x288 with 1 Axes>"
      ]
     },
     "metadata": {
      "needs_background": "light"
     },
     "output_type": "display_data"
    }
   ],
   "source": [
    "#pr_axis_aspect_ratio\n",
    "sns.distplot(data2['pr_axis_aspect_ratio'],kde=False)\n",
    "plt.title('Histogram_pr_axis_aspect_ratio')\n",
    "plt.show()"
   ]
  },
  {
   "cell_type": "code",
   "execution_count": 20,
   "metadata": {},
   "outputs": [
    {
     "data": {
      "text/plain": [
       "count    813.000000\n",
       "mean      61.774908\n",
       "std        7.973000\n",
       "min       47.000000\n",
       "25%       57.000000\n",
       "50%       61.000000\n",
       "75%       65.000000\n",
       "max      138.000000\n",
       "Name: pr_axis_aspect_ratio, dtype: float64"
      ]
     },
     "execution_count": 20,
     "metadata": {},
     "output_type": "execute_result"
    }
   ],
   "source": [
    "data2['pr_axis_aspect_ratio'].describe()"
   ]
  },
  {
   "cell_type": "code",
   "execution_count": 21,
   "metadata": {},
   "outputs": [
    {
     "data": {
      "image/png": "[encoded data removed]",
      "text/plain": [
       "<Figure size 432x288 with 1 Axes>"
      ]
     },
     "metadata": {
      "needs_background": "light"
     },
     "output_type": "display_data"
    }
   ],
   "source": [
    "#maxlengthaspectratio\n",
    "sns.distplot(data2['max_length_aspect_ratio'],kde=False)\n",
    "plt.title('Histogram_max_length_aspect_ratio')\n",
    "plt.show()"
   ]
  },
  {
   "cell_type": "code",
   "execution_count": 22,
   "metadata": {},
   "outputs": [
    {
     "data": {
      "text/plain": [
       "count    813.000000\n",
       "mean       8.599016\n",
       "std        4.677174\n",
       "min        2.000000\n",
       "25%        7.000000\n",
       "50%        8.000000\n",
       "75%       10.000000\n",
       "max       55.000000\n",
       "Name: max_length_aspect_ratio, dtype: float64"
      ]
     },
     "execution_count": 22,
     "metadata": {},
     "output_type": "execute_result"
    }
   ],
   "source": [
    "data2['max_length_aspect_ratio'].describe()"
   ]
  },
  {
   "cell_type": "code",
   "execution_count": 23,
   "metadata": {},
   "outputs": [
    {
     "data": {
      "image/png": "[encoded data removed]",
      "text/plain": [
       "<Figure size 432x288 with 1 Axes>"
      ]
     },
     "metadata": {
      "needs_background": "light"
     },
     "output_type": "display_data"
    }
   ],
   "source": [
    "#elongatedness\n",
    "sns.distplot(data2['elongatedness'],kde=False)\n",
    "plt.title('Histogram_elongatedness')\n",
    "plt.show()"
   ]
  },
  {
   "cell_type": "code",
   "execution_count": 24,
   "metadata": {},
   "outputs": [
    {
     "data": {
      "text/plain": [
       "count    813.00000\n",
       "mean      40.98893\n",
       "std        7.80338\n",
       "min       26.00000\n",
       "25%       33.00000\n",
       "50%       43.00000\n",
       "75%       46.00000\n",
       "max       61.00000\n",
       "Name: elongatedness, dtype: float64"
      ]
     },
     "execution_count": 24,
     "metadata": {},
     "output_type": "execute_result"
    }
   ],
   "source": [
    "data2['elongatedness'].describe()"
   ]
  },
  {
   "cell_type": "code",
   "execution_count": 29,
   "metadata": {},
   "outputs": [
    {
     "data": {
      "image/png": "[encoded data removed]",
      "text/plain": [
       "<Figure size 432x288 with 1 Axes>"
      ]
     },
     "metadata": {
      "needs_background": "light"
     },
     "output_type": "display_data"
    }
   ],
   "source": [
    "#skewness_about\n",
    "sns.distplot(data2['skewness_about'],kde=False)\n",
    "plt.title('Histogram_skewness_about')\n",
    "plt.show()"
   ]
  },
  {
   "cell_type": "code",
   "execution_count": 30,
   "metadata": {},
   "outputs": [
    {
     "data": {
      "text/plain": [
       "count    813.000000\n",
       "mean       6.351784\n",
       "std        4.921476\n",
       "min        0.000000\n",
       "25%        2.000000\n",
       "50%        6.000000\n",
       "75%        9.000000\n",
       "max       22.000000\n",
       "Name: skewness_about, dtype: float64"
      ]
     },
     "execution_count": 30,
     "metadata": {},
     "output_type": "execute_result"
    }
   ],
   "source": [
    "data2['skewness_about'].describe()"
   ]
  },
  {
   "cell_type": "code",
   "execution_count": 31,
   "metadata": {},
   "outputs": [
    {
     "data": {
      "image/png": "[encoded data removed]",
      "text/plain": [
       "<Figure size 432x288 with 1 Axes>"
      ]
     },
     "metadata": {
      "needs_background": "light"
     },
     "output_type": "display_data"
    }
   ],
   "source": [
    "#skewness_about_1\n",
    "sns.distplot(data2['skewness_about_1'],kde=False)\n",
    "plt.title('Histogram_skewness_about_1')\n",
    "plt.show()"
   ]
  },
  {
   "cell_type": "code",
   "execution_count": 32,
   "metadata": {},
   "outputs": [
    {
     "data": {
      "text/plain": [
       "count    813.000000\n",
       "mean      12.687577\n",
       "std        8.926951\n",
       "min        0.000000\n",
       "25%        6.000000\n",
       "50%       11.000000\n",
       "75%       19.000000\n",
       "max       41.000000\n",
       "Name: skewness_about_1, dtype: float64"
      ]
     },
     "execution_count": 32,
     "metadata": {},
     "output_type": "execute_result"
    }
   ],
   "source": [
    "data2['skewness_about_1'].describe()"
   ]
  },
  {
   "cell_type": "code",
   "execution_count": 33,
   "metadata": {},
   "outputs": [
    {
     "data": {
      "image/png": "[encoded data removed]",
      "text/plain": [
       "<Figure size 432x288 with 1 Axes>"
      ]
     },
     "metadata": {
      "needs_background": "light"
     },
     "output_type": "display_data"
    }
   ],
   "source": [
    "#skewness_about_2\n",
    "sns.distplot(data2['skewness_about_2'],kde=False)\n",
    "plt.title('Histogram_skewness_about_2')\n",
    "plt.show()"
   ]
  },
  {
   "cell_type": "code",
   "execution_count": 34,
   "metadata": {},
   "outputs": [
    {
     "data": {
      "text/plain": [
       "count    813.000000\n",
       "mean     188.979090\n",
       "std        6.153681\n",
       "min      176.000000\n",
       "25%      184.000000\n",
       "50%      189.000000\n",
       "75%      193.000000\n",
       "max      206.000000\n",
       "Name: skewness_about_2, dtype: float64"
      ]
     },
     "execution_count": 34,
     "metadata": {},
     "output_type": "execute_result"
    }
   ],
   "source": [
    "data2['skewness_about_2'].describe()"
   ]
  },
  {
   "cell_type": "code",
   "execution_count": 42,
   "metadata": {},
   "outputs": [
    {
     "data": {
      "image/png": "[encoded data removed]",
      "text/plain": [
       "<Figure size 432x288 with 1 Axes>"
      ]
     },
     "metadata": {
      "needs_background": "light"
     },
     "output_type": "display_data"
    }
   ],
   "source": [
    "#hollows_ratio\n",
    "sns.distplot(data2['hollows_ratio'],kde=False)\n",
    "plt.title('Histogram_hollows_ratio')\n",
    "plt.show()"
   ]
  },
  {
   "cell_type": "code",
   "execution_count": 43,
   "metadata": {},
   "outputs": [
    {
     "data": {
      "text/plain": [
       "count    813.000000\n",
       "mean     195.729397\n",
       "std        7.398781\n",
       "min      181.000000\n",
       "25%      191.000000\n",
       "50%      197.000000\n",
       "75%      201.000000\n",
       "max      211.000000\n",
       "Name: hollows_ratio, dtype: float64"
      ]
     },
     "execution_count": 43,
     "metadata": {},
     "output_type": "execute_result"
    }
   ],
   "source": [
    "data2['hollows_ratio'].describe()"
   ]
  },
  {
   "cell_type": "code",
   "execution_count": 44,
   "metadata": {},
   "outputs": [
    {
     "data": {
      "text/plain": [
       "<matplotlib.axes._subplots.AxesSubplot at 0x1fbd91bcb88>"
      ]
     },
     "execution_count": 44,
     "metadata": {},
     "output_type": "execute_result"
    },
    {
     "data": {
      "image/png": "[encoded data removed]",
      "text/plain": [
       "<Figure size 432x288 with 1 Axes>"
      ]
     },
     "metadata": {
      "needs_background": "light"
     },
     "output_type": "display_data"
    }
   ],
   "source": [
    "#class\n",
    "sns.countplot(data2['class'])"
   ]
  },
  {
   "cell_type": "code",
   "execution_count": 45,
   "metadata": {},
   "outputs": [
    {
     "data": {
      "text/plain": [
       "car    413\n",
       "bus    205\n",
       "van    195\n",
       "Name: class, dtype: int64"
      ]
     },
     "execution_count": 45,
     "metadata": {},
     "output_type": "execute_result"
    }
   ],
   "source": [
    "data2['class'].value_counts()"
   ]
  },
  {
   "cell_type": "code",
   "execution_count": 83,
   "metadata": {},
   "outputs": [],
   "source": [
    "#As the target feature is categorical we ned to encode it\n",
    "#we will use label encoder\n",
    "from sklearn import preprocessing \n",
    "from sklearn.preprocessing import LabelEncoder\n",
    "encoder = LabelEncoder()\n",
    "data3_encoded=data2.apply(LabelEncoder().fit_transform)"
   ]
  },
  {
   "cell_type": "code",
   "execution_count": 63,
   "metadata": {},
   "outputs": [
    {
     "data": {
      "text/html": [
       "<div>\n",
       "<style scoped>\n",
       "    .dataframe tbody tr th:only-of-type {\n",
       "        vertical-align: middle;\n",
       "    }\n",
       "\n",
       "    .dataframe tbody tr th {\n",
       "        vertical-align: top;\n",
       "    }\n",
       "\n",
       "    .dataframe thead th {\n",
       "        text-align: right;\n",
       "    }\n",
       "</style>\n",
       "<table border=\"1\" class=\"dataframe\">\n",
       "  <thead>\n",
       "    <tr style=\"text-align: right;\">\n",
       "      <th></th>\n",
       "      <th>pr_axis_aspect_ratio</th>\n",
       "      <th>max_length_aspect_ratio</th>\n",
       "      <th>elongatedness</th>\n",
       "      <th>skewness_about</th>\n",
       "      <th>skewness_about_1</th>\n",
       "      <th>skewness_about_2</th>\n",
       "      <th>hollows_ratio</th>\n",
       "      <th>class</th>\n",
       "    </tr>\n",
       "  </thead>\n",
       "  <tbody>\n",
       "    <tr>\n",
       "      <td>0</td>\n",
       "      <td>25</td>\n",
       "      <td>8</td>\n",
       "      <td>16</td>\n",
       "      <td>6</td>\n",
       "      <td>16</td>\n",
       "      <td>11</td>\n",
       "      <td>16</td>\n",
       "      <td>2</td>\n",
       "    </tr>\n",
       "    <tr>\n",
       "      <td>1</td>\n",
       "      <td>10</td>\n",
       "      <td>7</td>\n",
       "      <td>19</td>\n",
       "      <td>9</td>\n",
       "      <td>14</td>\n",
       "      <td>13</td>\n",
       "      <td>18</td>\n",
       "      <td>2</td>\n",
       "    </tr>\n",
       "    <tr>\n",
       "      <td>2</td>\n",
       "      <td>19</td>\n",
       "      <td>8</td>\n",
       "      <td>6</td>\n",
       "      <td>14</td>\n",
       "      <td>9</td>\n",
       "      <td>12</td>\n",
       "      <td>15</td>\n",
       "      <td>1</td>\n",
       "    </tr>\n",
       "    <tr>\n",
       "      <td>3</td>\n",
       "      <td>16</td>\n",
       "      <td>7</td>\n",
       "      <td>20</td>\n",
       "      <td>6</td>\n",
       "      <td>10</td>\n",
       "      <td>23</td>\n",
       "      <td>26</td>\n",
       "      <td>2</td>\n",
       "    </tr>\n",
       "    <tr>\n",
       "      <td>4</td>\n",
       "      <td>32</td>\n",
       "      <td>19</td>\n",
       "      <td>19</td>\n",
       "      <td>9</td>\n",
       "      <td>11</td>\n",
       "      <td>4</td>\n",
       "      <td>2</td>\n",
       "      <td>0</td>\n",
       "    </tr>\n",
       "  </tbody>\n",
       "</table>\n",
       "</div>"
      ],
      "text/plain": [
       "   pr_axis_aspect_ratio  max_length_aspect_ratio  elongatedness  \\\n",
       "0                    25                        8             16   \n",
       "1                    10                        7             19   \n",
       "2                    19                        8              6   \n",
       "3                    16                        7             20   \n",
       "4                    32                       19             19   \n",
       "\n",
       "   skewness_about  skewness_about_1  skewness_about_2  hollows_ratio  class  \n",
       "0               6                16                11             16      2  \n",
       "1               9                14                13             18      2  \n",
       "2              14                 9                12             15      1  \n",
       "3               6                10                23             26      2  \n",
       "4               9                11                 4              2      0  "
      ]
     },
     "execution_count": 63,
     "metadata": {},
     "output_type": "execute_result"
    }
   ],
   "source": [
    "data3_encoded.head()"
   ]
  },
  {
   "cell_type": "code",
   "execution_count": 64,
   "metadata": {},
   "outputs": [],
   "source": [
    "#dropping the target column and assigning to new variable Y\n",
    "X = data3_encoded.drop('class', axis=1)\n",
    "Y=data3_encoded['class']"
   ]
  },
  {
   "cell_type": "code",
   "execution_count": 65,
   "metadata": {},
   "outputs": [
    {
     "data": {
      "text/plain": [
       "1    413\n",
       "0    205\n",
       "2    195\n",
       "Name: class, dtype: int64"
      ]
     },
     "execution_count": 65,
     "metadata": {},
     "output_type": "execute_result"
    }
   ],
   "source": [
    "Y.value_counts()"
   ]
  },
  {
   "cell_type": "code",
   "execution_count": 87,
   "metadata": {},
   "outputs": [],
   "source": [
    "#so 1->car,0->bus,2->van"
   ]
  },
  {
   "cell_type": "code",
   "execution_count": 66,
   "metadata": {},
   "outputs": [],
   "source": [
    "#making list of columns to use later\n",
    "col_names = list(X.columns)"
   ]
  },
  {
   "cell_type": "code",
   "execution_count": 67,
   "metadata": {},
   "outputs": [],
   "source": [
    "#We can see that data are not scaled we will scale with feature scaling\n",
    "from sklearn.preprocessing import StandardScaler\n",
    "import numpy as np\n",
    "sc = StandardScaler()\n",
    "X_scaled = sc.fit_transform(X)"
   ]
  },
  {
   "cell_type": "code",
   "execution_count": 95,
   "metadata": {},
   "outputs": [],
   "source": [
    "X_scaled_df = pd.DataFrame(X_scaled, columns=col_names)"
   ]
  },
  {
   "cell_type": "code",
   "execution_count": 96,
   "metadata": {},
   "outputs": [
    {
     "data": {
      "text/html": [
       "<div>\n",
       "<style scoped>\n",
       "    .dataframe tbody tr th:only-of-type {\n",
       "        vertical-align: middle;\n",
       "    }\n",
       "\n",
       "    .dataframe tbody tr th {\n",
       "        vertical-align: top;\n",
       "    }\n",
       "\n",
       "    .dataframe thead th {\n",
       "        text-align: right;\n",
       "    }\n",
       "</style>\n",
       "<table border=\"1\" class=\"dataframe\">\n",
       "  <thead>\n",
       "    <tr style=\"text-align: right;\">\n",
       "      <th></th>\n",
       "      <th>pr_axis_aspect_ratio</th>\n",
       "      <th>max_length_aspect_ratio</th>\n",
       "      <th>elongatedness</th>\n",
       "      <th>skewness_about</th>\n",
       "      <th>skewness_about_1</th>\n",
       "      <th>skewness_about_2</th>\n",
       "      <th>hollows_ratio</th>\n",
       "    </tr>\n",
       "  </thead>\n",
       "  <tbody>\n",
       "    <tr>\n",
       "      <td>0</td>\n",
       "      <td>1.781476</td>\n",
       "      <td>0.710083</td>\n",
       "      <td>0.129857</td>\n",
       "      <td>-0.071523</td>\n",
       "      <td>0.373573</td>\n",
       "      <td>-0.321782</td>\n",
       "      <td>0.171837</td>\n",
       "    </tr>\n",
       "    <tr>\n",
       "      <td>1</td>\n",
       "      <td>-0.744111</td>\n",
       "      <td>0.298609</td>\n",
       "      <td>0.514694</td>\n",
       "      <td>0.538425</td>\n",
       "      <td>0.148682</td>\n",
       "      <td>0.003602</td>\n",
       "      <td>0.442318</td>\n",
       "    </tr>\n",
       "    <tr>\n",
       "      <td>2</td>\n",
       "      <td>0.771241</td>\n",
       "      <td>0.710083</td>\n",
       "      <td>-1.152934</td>\n",
       "      <td>1.555006</td>\n",
       "      <td>-0.413544</td>\n",
       "      <td>-0.159090</td>\n",
       "      <td>0.036596</td>\n",
       "    </tr>\n",
       "    <tr>\n",
       "      <td>3</td>\n",
       "      <td>0.266124</td>\n",
       "      <td>0.298609</td>\n",
       "      <td>0.642973</td>\n",
       "      <td>-0.071523</td>\n",
       "      <td>-0.301099</td>\n",
       "      <td>1.630520</td>\n",
       "      <td>1.524243</td>\n",
       "    </tr>\n",
       "    <tr>\n",
       "      <td>4</td>\n",
       "      <td>2.960083</td>\n",
       "      <td>5.236290</td>\n",
       "      <td>0.514694</td>\n",
       "      <td>0.538425</td>\n",
       "      <td>-0.188654</td>\n",
       "      <td>-1.460624</td>\n",
       "      <td>-1.721531</td>\n",
       "    </tr>\n",
       "  </tbody>\n",
       "</table>\n",
       "</div>"
      ],
      "text/plain": [
       "   pr_axis_aspect_ratio  max_length_aspect_ratio  elongatedness  \\\n",
       "0              1.781476                 0.710083       0.129857   \n",
       "1             -0.744111                 0.298609       0.514694   \n",
       "2              0.771241                 0.710083      -1.152934   \n",
       "3              0.266124                 0.298609       0.642973   \n",
       "4              2.960083                 5.236290       0.514694   \n",
       "\n",
       "   skewness_about  skewness_about_1  skewness_about_2  hollows_ratio  \n",
       "0       -0.071523          0.373573         -0.321782       0.171837  \n",
       "1        0.538425          0.148682          0.003602       0.442318  \n",
       "2        1.555006         -0.413544         -0.159090       0.036596  \n",
       "3       -0.071523         -0.301099          1.630520       1.524243  \n",
       "4        0.538425         -0.188654         -1.460624      -1.721531  "
      ]
     },
     "execution_count": 96,
     "metadata": {},
     "output_type": "execute_result"
    }
   ],
   "source": [
    "X_scaled_df.head()"
   ]
  },
  {
   "cell_type": "code",
   "execution_count": 70,
   "metadata": {},
   "outputs": [],
   "source": [
    "#We have now X_scaled and Y consisting the features and target feature"
   ]
  },
  {
   "cell_type": "code",
   "execution_count": 97,
   "metadata": {},
   "outputs": [],
   "source": [
    "#Splitting the data into training and test set in the ratio of 70:30 respectively\n",
    "from sklearn.model_selection import train_test_split\n",
    "x_train, x_test, y_train, y_test = train_test_split(X_scaled_df, Y, test_size=0.3, random_state=7)\n",
    "# 7 is just any random seed number"
   ]
  },
  {
   "cell_type": "code",
   "execution_count": 72,
   "metadata": {},
   "outputs": [
    {
     "data": {
      "text/plain": [
       "SVC(C=1.0, break_ties=False, cache_size=200, class_weight=None, coef0=0.0,\n",
       "    decision_function_shape='ovr', degree=3, gamma='scale', kernel='linear',\n",
       "    max_iter=-1, probability=False, random_state=None, shrinking=True,\n",
       "    tol=0.001, verbose=False)"
      ]
     },
     "execution_count": 72,
     "metadata": {},
     "output_type": "execute_result"
    }
   ],
   "source": [
    "#SVM\n",
    "from sklearn import svm\n",
    "svm_classifier = svm.SVC(kernel='linear')\n",
    "svm_classifier.fit(x_train, y_train)"
   ]
  },
  {
   "cell_type": "code",
   "execution_count": 73,
   "metadata": {},
   "outputs": [],
   "source": [
    "#Test the prediction\n",
    "predict_svm = svm_classifier.predict(x_test)"
   ]
  },
  {
   "cell_type": "code",
   "execution_count": 111,
   "metadata": {},
   "outputs": [
    {
     "name": "stdout",
     "output_type": "stream",
     "text": [
      "              precision    recall  f1-score   support\n",
      "\n",
      "           0       0.74      0.81      0.77        63\n",
      "           1       0.89      0.79      0.84       129\n",
      "           2       0.82      0.94      0.87        52\n",
      "\n",
      "    accuracy                           0.83       244\n",
      "   macro avg       0.81      0.85      0.83       244\n",
      "weighted avg       0.83      0.83      0.83       244\n",
      "\n"
     ]
    }
   ],
   "source": [
    "# print classification report \n",
    "from sklearn.metrics import classification_report\n",
    "print(classification_report(y_test, predict_svm))"
   ]
  },
  {
   "cell_type": "code",
   "execution_count": 74,
   "metadata": {},
   "outputs": [
    {
     "name": "stdout",
     "output_type": "stream",
     "text": [
      "[[ 51  12   0]\n",
      " [ 16 102  11]\n",
      " [  2   1  49]]\n",
      "accuracy score of first model  0.8278688524590164\n"
     ]
    }
   ],
   "source": [
    "#Confusion matrix\n",
    "from sklearn.metrics import confusion_matrix\n",
    "cm_svm = confusion_matrix(y_test,predict_svm)\n",
    "print(cm_svm)\n",
    "print(\"accuracy score of first model \",svm_classifier.score(x_test,y_test))"
   ]
  },
  {
   "cell_type": "code",
   "execution_count": 79,
   "metadata": {},
   "outputs": [],
   "source": [
    "# Create the parameter grid based on the results of random search \n",
    "params_grid = [{'kernel': ['rbf'], 'gamma': [1e-3, 1e-4],\n",
    "                     'C': [1, 10, 100, 1000]},\n",
    "                    {'kernel': ['linear'], 'C': [1, 10, 100, 1000]}]"
   ]
  },
  {
   "cell_type": "code",
   "execution_count": 80,
   "metadata": {},
   "outputs": [
    {
     "data": {
      "text/plain": [
       "GridSearchCV(cv=5, error_score=nan,\n",
       "             estimator=SVC(C=1.0, break_ties=False, cache_size=200,\n",
       "                           class_weight=None, coef0=0.0,\n",
       "                           decision_function_shape='ovr', degree=3,\n",
       "                           gamma='scale', kernel='rbf', max_iter=-1,\n",
       "                           probability=False, random_state=None, shrinking=True,\n",
       "                           tol=0.001, verbose=False),\n",
       "             iid='deprecated', n_jobs=None,\n",
       "             param_grid=[{'C': [1, 10, 100, 1000], 'gamma': [0.001, 0.0001],\n",
       "                          'kernel': ['rbf']},\n",
       "                         {'C': [1, 10, 100, 1000], 'kernel': ['linear']}],\n",
       "             pre_dispatch='2*n_jobs', refit=True, return_train_score=False,\n",
       "             scoring=None, verbose=0)"
      ]
     },
     "execution_count": 80,
     "metadata": {},
     "output_type": "execute_result"
    }
   ],
   "source": [
    "#Grid search for fine tune\n",
    "from sklearn.svm import SVC\n",
    "\n",
    "svm_model = GridSearchCV(SVC(), params_grid, cv=5)\n",
    "svm_model.fit(x_train, y_train)"
   ]
  },
  {
   "cell_type": "code",
   "execution_count": 86,
   "metadata": {},
   "outputs": [
    {
     "name": "stdout",
     "output_type": "stream",
     "text": [
      "Best score for training data: 0.8927650985871759 \n",
      "\n",
      "Best C: 1000 \n",
      "\n",
      "Best Kernel: rbf \n",
      "\n",
      "Best Gamma: 0.001 \n",
      "\n"
     ]
    }
   ],
   "source": [
    "# View the accuracy score\n",
    "print('Best score for training data:', svm_model.best_score_,\"\\n\") \n",
    "\n",
    "# View the best parameters for the model found using grid search\n",
    "print('Best C:',svm_model.best_estimator_.C,\"\\n\") \n",
    "print('Best Kernel:',svm_model.best_estimator_.kernel,\"\\n\")\n",
    "print('Best Gamma:',svm_model.best_estimator_.gamma,\"\\n\")\n",
    "\n",
    "final_model = svm_model.best_estimator_\n",
    "Y_pred = final_model.predict(x_test)\n"
   ]
  },
  {
   "cell_type": "code",
   "execution_count": 85,
   "metadata": {},
   "outputs": [
    {
     "name": "stdout",
     "output_type": "stream",
     "text": [
      "              precision    recall  f1-score   support\n",
      "\n",
      "           0       0.78      0.84      0.81        63\n",
      "           1       0.90      0.81      0.85       129\n",
      "           2       0.83      0.94      0.88        52\n",
      "\n",
      "    accuracy                           0.85       244\n",
      "   macro avg       0.84      0.87      0.85       244\n",
      "weighted avg       0.85      0.85      0.85       244\n",
      "\n"
     ]
    }
   ],
   "source": [
    "# print classification report \n",
    "\n",
    "print(classification_report(y_test, Y_pred))"
   ]
  },
  {
   "cell_type": "code",
   "execution_count": 88,
   "metadata": {},
   "outputs": [],
   "source": [
    "#In the above as we recall the numbers are 1->car,0->bus,2->van"
   ]
  },
  {
   "cell_type": "code",
   "execution_count": 98,
   "metadata": {},
   "outputs": [
    {
     "data": {
      "text/plain": [
       "array([[-0.89132008,  0.63465884,  0.79609706, ...,  0.19412099,\n",
       "         1.43485319, -0.20324501],\n",
       "       [ 0.03804276, -0.31527497, -0.81457937, ..., -0.74753863,\n",
       "         0.01182992, -0.20866734],\n",
       "       [-0.93654933,  0.87991651, -0.29599654, ...,  0.64517076,\n",
       "         0.08324363, -0.07484607],\n",
       "       ...,\n",
       "       [-1.38170878,  1.43329668,  1.46923843, ..., -0.41935824,\n",
       "        -0.60692486, -0.46475477],\n",
       "       [ 0.6441462 , -0.54112517, -0.31617301, ..., -0.4998779 ,\n",
       "         0.50661595,  0.21992874],\n",
       "       [ 2.20771281, -1.12383452, -0.18816979, ..., -0.4147677 ,\n",
       "         0.49285795,  0.04132785]])"
      ]
     },
     "execution_count": 98,
     "metadata": {},
     "output_type": "execute_result"
    }
   ],
   "source": [
    "#PCA\n",
    "from sklearn.decomposition import PCA\n",
    "pca = PCA()\n",
    "pca.fit_transform(X_scaled)"
   ]
  },
  {
   "cell_type": "code",
   "execution_count": 99,
   "metadata": {},
   "outputs": [
    {
     "data": {
      "text/plain": [
       "array([[ 1.00123153,  0.28688953, -0.28216071, -0.05855663, -0.03968656,\n",
       "         0.35055899,  0.37238871],\n",
       "       [ 0.28688953,  1.00123153, -0.41766896,  0.07526775,  0.11081955,\n",
       "         0.03222987,  0.32897677],\n",
       "       [-0.28216071, -0.41766896,  1.00123153, -0.04687817, -0.20153673,\n",
       "        -0.11772052, -0.2335154 ],\n",
       "       [-0.05855663,  0.07526775, -0.04687817,  1.00123153, -0.02282908,\n",
       "         0.11069407,  0.0982493 ],\n",
       "       [-0.03968656,  0.11081955, -0.20153673, -0.02282908,  1.00123153,\n",
       "         0.07786634,  0.20093505],\n",
       "       [ 0.35055899,  0.03222987, -0.11772052,  0.11069407,  0.07786634,\n",
       "         1.00123153,  0.89522517],\n",
       "       [ 0.37238871,  0.32897677, -0.2335154 ,  0.0982493 ,  0.20093505,\n",
       "         0.89522517,  1.00123153]])"
      ]
     },
     "execution_count": 99,
     "metadata": {},
     "output_type": "execute_result"
    }
   ],
   "source": [
    "pca.get_covariance()"
   ]
  },
  {
   "cell_type": "code",
   "execution_count": 100,
   "metadata": {},
   "outputs": [
    {
     "data": {
      "text/plain": [
       "array([0.34858139, 0.18436706, 0.1491321 , 0.14490421, 0.08664649,\n",
       "       0.07905321, 0.00731554])"
      ]
     },
     "execution_count": 100,
     "metadata": {},
     "output_type": "execute_result"
    }
   ],
   "source": [
    "explained_variance=pca.explained_variance_ratio_\n",
    "explained_variance"
   ]
  },
  {
   "cell_type": "code",
   "execution_count": 101,
   "metadata": {},
   "outputs": [
    {
     "data": {
      "image/png": "[encoded data removed]",
      "text/plain": [
       "<Figure size 432x288 with 1 Axes>"
      ]
     },
     "metadata": {},
     "output_type": "display_data"
    }
   ],
   "source": [
    "with plt.style.context('dark_background'):\n",
    "    plt.figure(figsize=(6, 4))\n",
    "\n",
    "    plt.bar(range(7), explained_variance, alpha=0.5, align='center',\n",
    "            label='individual explained variance')\n",
    "    plt.ylabel('Explained variance ratio')\n",
    "    plt.xlabel('Principal components')\n",
    "    plt.legend(loc='best')\n",
    "    plt.tight_layout()"
   ]
  },
  {
   "cell_type": "code",
   "execution_count": 102,
   "metadata": {},
   "outputs": [],
   "source": [
    "#Thus we can see from the above plot that first two components constitute almost 55% of the variance.\n",
    "#Third,fourth and fifth components has 42% of the data sprad.\n",
    "#The last component has less than 5% of the variance.Hence we can drop the sixth component"
   ]
  },
  {
   "cell_type": "code",
   "execution_count": 103,
   "metadata": {},
   "outputs": [
    {
     "data": {
      "text/plain": [
       "array([[-0.89132008,  0.63465884,  0.79609706,  0.06058883,  0.19412099,\n",
       "         1.43485319],\n",
       "       [ 0.03804276, -0.31527497, -0.81457937,  0.22037316, -0.74753863,\n",
       "         0.01182992],\n",
       "       [-0.93654933,  0.87991651, -0.29599654,  1.69594532,  0.64517076,\n",
       "         0.08324363],\n",
       "       ...,\n",
       "       [-1.38170878,  1.43329668,  1.46923843,  0.60460249, -0.41935824,\n",
       "        -0.60692486],\n",
       "       [ 0.6441462 , -0.54112517, -0.31617301, -2.05068765, -0.4998779 ,\n",
       "         0.50661595],\n",
       "       [ 2.20771281, -1.12383452, -0.18816979, -1.57485514, -0.4147677 ,\n",
       "         0.49285795]])"
      ]
     },
     "execution_count": 103,
     "metadata": {},
     "output_type": "execute_result"
    }
   ],
   "source": [
    "pca=PCA(n_components=6)\n",
    "X_new=pca.fit_transform(X_scaled)\n",
    "X_new"
   ]
  },
  {
   "cell_type": "code",
   "execution_count": 104,
   "metadata": {},
   "outputs": [
    {
     "data": {
      "text/plain": [
       "array([[ 1.00123153,  0.28688953, -0.28216071, -0.05855663, -0.03968656,\n",
       "         0.35055899,  0.37238871],\n",
       "       [ 0.28688953,  1.00123153, -0.41766896,  0.07526775,  0.11081955,\n",
       "         0.03222987,  0.32897677],\n",
       "       [-0.28216071, -0.41766896,  1.00123153, -0.04687817, -0.20153673,\n",
       "        -0.11772052, -0.2335154 ],\n",
       "       [-0.05855663,  0.07526775, -0.04687817,  1.00123153, -0.02282908,\n",
       "         0.11069407,  0.0982493 ],\n",
       "       [-0.03968656,  0.11081955, -0.20153673, -0.02282908,  1.00123153,\n",
       "         0.07786634,  0.20093505],\n",
       "       [ 0.35055899,  0.03222987, -0.11772052,  0.11069407,  0.07786634,\n",
       "         1.00123153,  0.89522517],\n",
       "       [ 0.37238871,  0.32897677, -0.2335154 ,  0.0982493 ,  0.20093505,\n",
       "         0.89522517,  1.00123153]])"
      ]
     },
     "execution_count": 104,
     "metadata": {},
     "output_type": "execute_result"
    }
   ],
   "source": [
    "pca.get_covariance()"
   ]
  },
  {
   "cell_type": "code",
   "execution_count": 105,
   "metadata": {},
   "outputs": [
    {
     "data": {
      "text/plain": [
       "array([0.34858139, 0.18436706, 0.1491321 , 0.14490421, 0.08664649,\n",
       "       0.07905321])"
      ]
     },
     "execution_count": 105,
     "metadata": {},
     "output_type": "execute_result"
    }
   ],
   "source": [
    "explained_variance=pca.explained_variance_ratio_\n",
    "explained_variance"
   ]
  },
  {
   "cell_type": "code",
   "execution_count": 107,
   "metadata": {},
   "outputs": [
    {
     "data": {
      "image/png": "[encoded data removed]",
      "text/plain": [
       "<Figure size 432x288 with 1 Axes>"
      ]
     },
     "metadata": {},
     "output_type": "display_data"
    }
   ],
   "source": [
    "with plt.style.context('dark_background'):\n",
    "    plt.figure(figsize=(6, 4))\n",
    "\n",
    "    plt.bar(range(6), explained_variance, alpha=0.5, align='center',\n",
    "            label='individual explained variance')\n",
    "    plt.ylabel('Explained variance ratio')\n",
    "    plt.xlabel('Principal components')\n",
    "    plt.legend(loc='best')\n",
    "    plt.tight_layout()"
   ]
  },
  {
   "cell_type": "markdown",
   "metadata": {},
   "source": [
    "# new code"
   ]
  },
  {
   "cell_type": "code",
   "execution_count": 117,
   "metadata": {},
   "outputs": [
    {
     "name": "stdout",
     "output_type": "stream",
     "text": [
      "Covariance Matrix \n",
      "%s [[ 1.00123153  0.28688953 -0.28216071 -0.05855663 -0.03968656  0.35055899\n",
      "   0.37238871]\n",
      " [ 0.28688953  1.00123153 -0.41766896  0.07526775  0.11081955  0.03222987\n",
      "   0.32897677]\n",
      " [-0.28216071 -0.41766896  1.00123153 -0.04687817 -0.20153673 -0.11772052\n",
      "  -0.2335154 ]\n",
      " [-0.05855663  0.07526775 -0.04687817  1.00123153 -0.02282908  0.11069407\n",
      "   0.0982493 ]\n",
      " [-0.03968656  0.11081955 -0.20153673 -0.02282908  1.00123153  0.07786634\n",
      "   0.20093505]\n",
      " [ 0.35055899  0.03222987 -0.11772052  0.11069407  0.07786634  1.00123153\n",
      "   0.89522517]\n",
      " [ 0.37238871  0.32897677 -0.2335154   0.0982493   0.20093505  0.89522517\n",
      "   1.00123153]]\n",
      "Eigenvectors \n",
      "[[ 0.39491724  0.03446289 -0.60954856 -0.42480257  0.06420131 -0.52564986\n",
      "  -0.10206092]\n",
      " [ 0.33540337 -0.23176376 -0.14022843  0.68797694  0.53488565 -0.04675735\n",
      "  -0.22918322]\n",
      " [-0.33488359 -0.01468396 -0.59562752  0.47869937 -0.54798083 -0.02585339\n",
      "   0.05254276]\n",
      " [ 0.08751067  0.02305509 -0.21543499 -0.20357752 -0.09586166  0.61022397\n",
      "  -0.7227666 ]\n",
      " [ 0.16760212 -0.06825034 -0.39041078 -0.12619953  0.2464059   0.5838699\n",
      "   0.63030516]\n",
      " [ 0.50341842 -0.66682013  0.19733256 -0.00804914 -0.50531385  0.03498312\n",
      "   0.07968677]\n",
      " [ 0.57464705  0.70359329  0.12744193  0.24421816 -0.29025012  0.07960156\n",
      "   0.09094916]]\n",
      "\n",
      "Eigenvalues \n",
      "[2.44307476 0.05127183 0.55405393 0.60727239 1.29215879 1.04521035\n",
      " 1.01557864]\n"
     ]
    }
   ],
   "source": [
    "# generating the covariance matrix and the eigen values for the PCA analysis\n",
    "cov_matrix = np.cov(X_scaled.T) # the relevanat covariance matrix\n",
    "print('Covariance Matrix \\n%s', cov_matrix)\n",
    "\n",
    "#generating the eigen values and the eigen vectors\n",
    "e_vals, e_vecs = np.linalg.eig(cov_matrix)\n",
    "print('Eigenvectors \\n%s' %e_vecs)\n",
    "print('\\nEigenvalues \\n%s' %e_vals)"
   ]
  },
  {
   "cell_type": "code",
   "execution_count": 118,
   "metadata": {},
   "outputs": [
    {
     "name": "stdout",
     "output_type": "stream",
     "text": [
      "Cumulative Variance Explained [ 34.85813923  53.29484523  68.20805568  82.69847658  91.36312572\n",
      "  99.26844625 100.        ]\n"
     ]
    }
   ],
   "source": [
    "# the \"cumulative variance explained\" analysis \n",
    "tot = sum(e_vals)\n",
    "var_exp = [( i /tot ) * 100 for i in sorted(e_vals, reverse=True)]\n",
    "cum_var_exp = np.cumsum(var_exp)\n",
    "print(\"Cumulative Variance Explained\", cum_var_exp)"
   ]
  },
  {
   "cell_type": "code",
   "execution_count": 124,
   "metadata": {},
   "outputs": [
    {
     "data": {
      "image/png": "[encoded data removed]",
      "text/plain": [
       "<Figure size 576x360 with 1 Axes>"
      ]
     },
     "metadata": {},
     "output_type": "display_data"
    }
   ],
   "source": [
    "# Plotting the variance expalained by the principal components and the cumulative variance explained.\n",
    "with plt.style.context('dark_background'):\n",
    "    plt.figure(figsize=(8, 5))\n",
    "    plt.bar(range(1, e_vals.size + 1), var_exp, alpha = 0.5, align = 'center', label = 'Individual explained variance')\n",
    "    plt.step(range(1, e_vals.size + 1), cum_var_exp, where='mid', label = 'Cumulative explained variance')\n",
    "    plt.ylabel('Explained Variance Ratio')\n",
    "    plt.xlabel('Principal Components')\n",
    "    plt.legend(loc = 'best')\n",
    "    plt.tight_layout()\n",
    "    plt.show()"
   ]
  },
  {
   "cell_type": "code",
   "execution_count": 134,
   "metadata": {},
   "outputs": [
    {
     "data": {
      "text/plain": [
       "[(2.4430747578851926,\n",
       "  array([ 0.39491724,  0.33540337, -0.33488359,  0.08751067,  0.16760212,\n",
       "          0.50341842,  0.57464705])),\n",
       " (1.2921587915875012,\n",
       "  array([ 0.06420131,  0.53488565, -0.54798083, -0.09586166,  0.2464059 ,\n",
       "         -0.50531385, -0.29025012])),\n",
       " (1.045210352688928,\n",
       "  array([-0.52564986, -0.04675735, -0.02585339,  0.61022397,  0.5838699 ,\n",
       "          0.03498312,  0.07960156])),\n",
       " (1.0155786374716138,\n",
       "  array([-0.10206092, -0.22918322,  0.05254276, -0.7227666 ,  0.63030516,\n",
       "          0.07968677,  0.09094916])),\n",
       " (0.6072723921027892,\n",
       "  array([-0.42480257,  0.68797694,  0.47869937, -0.20357752, -0.12619953,\n",
       "         -0.00804914,  0.24421816]))]"
      ]
     },
     "execution_count": 134,
     "metadata": {},
     "output_type": "execute_result"
    }
   ],
   "source": [
    "eigen_pairs = [(np.abs(e_vals[i]), e_vecs[:,i]) for i in range(len(e_vals))]\n",
    "eigen_pairs.sort(reverse=True)\n",
    "eigen_pairs[:5]"
   ]
  },
  {
   "cell_type": "code",
   "execution_count": 137,
   "metadata": {},
   "outputs": [
    {
     "name": "stdout",
     "output_type": "stream",
     "text": [
      "Matrix W:\n",
      " [[ 0.39491724  0.06420131]\n",
      " [ 0.33540337  0.53488565]\n",
      " [-0.33488359 -0.54798083]\n",
      " [ 0.08751067 -0.09586166]\n",
      " [ 0.16760212  0.2464059 ]\n",
      " [ 0.50341842 -0.50531385]\n",
      " [ 0.57464705 -0.29025012]]\n"
     ]
    }
   ],
   "source": [
    "# generating dimensionally reduced datasets\n",
    "w = np.hstack((eigen_pairs[0][1].reshape(7,1), \n",
    "                      eigen_pairs[1][1].reshape(7,1)))\n",
    "print('Matrix W:\\n', w)\n",
    "X_train_sd_pca = x_train.dot(w)\n",
    "X_test_sd_pca = x_test.dot(w)"
   ]
  },
  {
   "cell_type": "code",
   "execution_count": 138,
   "metadata": {},
   "outputs": [
    {
     "data": {
      "text/plain": [
       "((569, 7), (7, 2), (569, 2), (244, 2))"
      ]
     },
     "execution_count": 138,
     "metadata": {},
     "output_type": "execute_result"
    }
   ],
   "source": [
    "x_train.shape, w.shape, X_train_sd_pca.shape, X_test_sd_pca.shape"
   ]
  },
  {
   "cell_type": "code",
   "execution_count": 141,
   "metadata": {},
   "outputs": [
    {
     "name": "stdout",
     "output_type": "stream",
     "text": [
      "Before PCA score 0.9098360655737705\n",
      "After PCA score 0.6188524590163934\n"
     ]
    }
   ],
   "source": [
    "#SVM with PCA\n",
    "from sklearn.svm import SVC\n",
    "\n",
    "clf_pca = SVC()\n",
    "clf_pca.fit(x_train, y_train)\n",
    "print ('Before PCA score', clf_pca.score(x_test, y_test))\n",
    "\n",
    "clf_pca.fit(X_train_sd_pca, y_train)\n",
    "print ('After PCA score', clf_pca.score(X_test_sd_pca, y_test))\n"
   ]
  },
  {
   "cell_type": "code",
   "execution_count": null,
   "metadata": {},
   "outputs": [],
   "source": []
  }
 ],
 "metadata": {
  "kernelspec": {
   "display_name": "Python 3",
   "language": "python",
   "name": "python3"
  },
  "language_info": {
   "codemirror_mode": {
    "name": "ipython",
    "version": 3
   },
   "file_extension": ".py",
   "mimetype": "text/x-python",
   "name": "python",
   "nbconvert_exporter": "python",
   "pygments_lexer": "ipython3",
   "version": "3.7.4"
  }
 },
 "nbformat": 4,
 "nbformat_minor": 2
}
